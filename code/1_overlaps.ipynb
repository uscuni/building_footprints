{
 "cells": [
  {
   "cell_type": "markdown",
   "metadata": {},
   "source": [
    "# 1. Fix Overlapping Buildings"
   ]
  },
  {
   "cell_type": "markdown",
   "metadata": {},
   "source": [
    "Overlapping buildings should either be merged to a neighbouring polygon if smaller than a size ``merge_limit`` or if they share area larger than ``area * overlap_limit``, or trimmed if not."
   ]
  },
  {
   "cell_type": "code",
   "execution_count": 131,
   "metadata": {},
   "outputs": [],
   "source": [
    "import geopandas as gpd\n",
    "from tqdm import tqdm\n",
    "import numpy as np\n",
    "import libpysal\n",
    "import geoplanar\n",
    "import momepy"
   ]
  },
  {
   "cell_type": "code",
   "execution_count": 132,
   "metadata": {},
   "outputs": [],
   "source": [
    "path = '/Users/lisawinkler/Documents/Prague/BuildingFootprints/buildings_berlin_0.parquet'"
   ]
  },
  {
   "cell_type": "code",
   "execution_count": 133,
   "metadata": {},
   "outputs": [],
   "source": [
    "buildings=gpd.read_parquet(path,columns=['geometry'])"
   ]
  },
  {
   "cell_type": "code",
   "execution_count": 134,
   "metadata": {},
   "outputs": [],
   "source": [
    "buildings=buildings.reset_index(drop=True)"
   ]
  },
  {
   "cell_type": "code",
   "execution_count": 135,
   "metadata": {},
   "outputs": [
    {
     "data": {
      "text/html": [
       "<div>\n",
       "<style scoped>\n",
       "    .dataframe tbody tr th:only-of-type {\n",
       "        vertical-align: middle;\n",
       "    }\n",
       "\n",
       "    .dataframe tbody tr th {\n",
       "        vertical-align: top;\n",
       "    }\n",
       "\n",
       "    .dataframe thead th {\n",
       "        text-align: right;\n",
       "    }\n",
       "</style>\n",
       "<table border=\"1\" class=\"dataframe\">\n",
       "  <thead>\n",
       "    <tr style=\"text-align: right;\">\n",
       "      <th></th>\n",
       "      <th>geometry</th>\n",
       "    </tr>\n",
       "  </thead>\n",
       "  <tbody>\n",
       "    <tr>\n",
       "      <th>0</th>\n",
       "      <td>POLYGON ((4588533.734 5821521.726, 4588570.786...</td>\n",
       "    </tr>\n",
       "    <tr>\n",
       "      <th>1</th>\n",
       "      <td>POLYGON ((4591889.97 5823105.866, 4591898.467 ...</td>\n",
       "    </tr>\n",
       "    <tr>\n",
       "      <th>2</th>\n",
       "      <td>POLYGON ((4592002.064 5821961.774, 4592000.684...</td>\n",
       "    </tr>\n",
       "    <tr>\n",
       "      <th>3</th>\n",
       "      <td>POLYGON ((4592077.946 5822437.286, 4592070.997...</td>\n",
       "    </tr>\n",
       "    <tr>\n",
       "      <th>4</th>\n",
       "      <td>POLYGON ((4592403.073 5822915.869, 4592383.652...</td>\n",
       "    </tr>\n",
       "    <tr>\n",
       "      <th>...</th>\n",
       "      <td>...</td>\n",
       "    </tr>\n",
       "    <tr>\n",
       "      <th>1057236</th>\n",
       "      <td>POLYGON ((4599145.094 5819669.998, 4599129.491...</td>\n",
       "    </tr>\n",
       "    <tr>\n",
       "      <th>1057237</th>\n",
       "      <td>POLYGON ((4576136.11 5806949.507, 4576173.534 ...</td>\n",
       "    </tr>\n",
       "    <tr>\n",
       "      <th>1057238</th>\n",
       "      <td>POLYGON ((4586770.205 5823065.392, 4586753.742...</td>\n",
       "    </tr>\n",
       "    <tr>\n",
       "      <th>1057239</th>\n",
       "      <td>POLYGON ((4597976.059 5812604.354, 4597984.496...</td>\n",
       "    </tr>\n",
       "    <tr>\n",
       "      <th>1057240</th>\n",
       "      <td>POLYGON ((4598421.808 5812616.361, 4598502.828...</td>\n",
       "    </tr>\n",
       "  </tbody>\n",
       "</table>\n",
       "<p>1057241 rows × 1 columns</p>\n",
       "</div>"
      ],
      "text/plain": [
       "                                                  geometry\n",
       "0        POLYGON ((4588533.734 5821521.726, 4588570.786...\n",
       "1        POLYGON ((4591889.97 5823105.866, 4591898.467 ...\n",
       "2        POLYGON ((4592002.064 5821961.774, 4592000.684...\n",
       "3        POLYGON ((4592077.946 5822437.286, 4592070.997...\n",
       "4        POLYGON ((4592403.073 5822915.869, 4592383.652...\n",
       "...                                                    ...\n",
       "1057236  POLYGON ((4599145.094 5819669.998, 4599129.491...\n",
       "1057237  POLYGON ((4576136.11 5806949.507, 4576173.534 ...\n",
       "1057238  POLYGON ((4586770.205 5823065.392, 4586753.742...\n",
       "1057239  POLYGON ((4597976.059 5812604.354, 4597984.496...\n",
       "1057240  POLYGON ((4598421.808 5812616.361, 4598502.828...\n",
       "\n",
       "[1057241 rows x 1 columns]"
      ]
     },
     "execution_count": 135,
     "metadata": {},
     "output_type": "execute_result"
    }
   ],
   "source": [
    "buildings"
   ]
  },
  {
   "cell_type": "markdown",
   "metadata": {},
   "source": [
    "## Merge Overlapping Buildings"
   ]
  },
  {
   "cell_type": "code",
   "execution_count": 136,
   "metadata": {},
   "outputs": [],
   "source": [
    "def merge_overlapping1(gdf, merge_limit, overlap_limit):\n",
    "    \"\"\"Merge overlapping polygons based on a set of conditions.\n",
    "    \n",
    "    Overlapping polygons smaller than ``merge_limit`` are merged to a neighboring polygon.\n",
    "    If ``largest=None`` it picks one randomly, otherwise it picks the largest (True) or the\n",
    "    smallest (False).\n",
    "    \n",
    "    Polygons larger than ``merge_limit`` are merged to neighboring if they share area larger\n",
    "    than ``area * overlap_limit``.\n",
    "    \n",
    "    Parameters\n",
    "    ----------\n",
    "    gdf : GeoDataFrame\n",
    "        GeoDataFrame with polygon or mutli polygon geometry\n",
    "    merge_limit : float\n",
    "        area of overlapping polygons that are to be merged with neighbors no matter the size\n",
    "        of the overlap\n",
    "    overlap_limit : float (0-1)\n",
    "        ratio of area of an overlapping polygon that has to be shared with other polygon \n",
    "        to merge both into a one\n",
    "    largest : bool (default None)\n",
    "        Merge each overlapping polygons smaller than merge_limit with  the polygon with the largest intersection (True), or smallest (False) neighbor.\n",
    "        If None, merge with any neighbor non-deterministically but performantly.\n",
    "        \n",
    "    Returns\n",
    "    -------\n",
    "\n",
    "    GeoDataFrame\n",
    "    \"\"\"\n",
    "    neighbors = {}\n",
    "    for i, poly in tqdm(gdf.geometry.items(), total=len(gdf)):\n",
    "        \n",
    "        hits_overlaps = gdf.sindex.query(poly, predicate='overlaps')\n",
    "        hits_overlaps = hits_overlaps[hits_overlaps != i]\n",
    "\n",
    "        hits_contains = gdf.sindex.query(poly, predicate='contains')\n",
    "        hits_contains = hits_contains[hits_contains != i]\n",
    "\n",
    "        if poly.area < merge_limit:\n",
    "            neighbors[i] = np.unique(np.concatenate([hits_overlaps,hits_contains]))\n",
    "        else:\n",
    "            sub = gdf.geometry.iloc[np.unique(np.concatenate([hits_overlaps,hits_contains]))]\n",
    "            inters = sub.intersection(poly)\n",
    "            include = sub.index[inters.area > (sub.area * overlap_limit)]\n",
    "            neighbors[i] = list(include)\n",
    "    \n",
    "    W = libpysal.weights.W(neighbors, silence_warnings=True)\n",
    "    return gdf.dissolve(W.component_labels)"
   ]
  },
  {
   "cell_type": "code",
   "execution_count": 138,
   "metadata": {},
   "outputs": [],
   "source": [
    "def merge_overlapping2(gdf, merge_limit, overlap_limit):\n",
    "    \"\"\"Merge overlapping polygons based on a set of conditions.\n",
    "    \n",
    "    Overlapping polygons smaller than ``merge_limit`` are merged to a neighboring polygon.\n",
    "    If ``largest=None`` it picks one randomly, otherwise it picks the largest (True) or the\n",
    "    smallest (False).\n",
    "    \n",
    "    Polygons larger than ``merge_limit`` are merged to neighboring if they share area larger\n",
    "    than ``area * overlap_limit``.\n",
    "    \n",
    "    Parameters\n",
    "    ----------\n",
    "    gdf : GeoDataFrame\n",
    "        GeoDataFrame with polygon or mutli polygon geometry\n",
    "    merge_limit : float\n",
    "        area of overlapping polygons that are to be merged with neighbors no matter the size\n",
    "        of the overlap\n",
    "    overlap_limit : float (0-1)\n",
    "        ratio of area of an overlapping polygon that has to be shared with other polygon \n",
    "        to merge both into a one\n",
    "    largest : bool (default None)\n",
    "        Merge each overlapping polygons smaller than merge_limit with  the polygon with the largest intersection (True), or smallest (False) neighbor.\n",
    "        If None, merge with any neighbor non-deterministically but performantly.\n",
    "        \n",
    "    Returns\n",
    "    -------\n",
    "\n",
    "    GeoDataFrame\n",
    "    \"\"\"\n",
    "\n",
    "    overlap_a, overlap_b = gdf.sindex.query(\n",
    "        gdf.geometry, predicate=\"overlaps\"\n",
    "    )\n",
    "    contains_a, contains_b = gdf.sindex.query(\n",
    "        gdf.geometry, predicate=\"contains\"\n",
    "    )\n",
    "\n",
    "    self_mask = contains_a != contains_b\n",
    "    contains_a = contains_a[self_mask]\n",
    "    contains_b = contains_b[self_mask]\n",
    "\n",
    "    self_mask = overlap_a != overlap_b\n",
    "    overlap_a = overlap_a[self_mask]\n",
    "    overlap_b = overlap_b[self_mask]\n",
    "\n",
    "    source = np.concatenate([overlap_a, contains_a])\n",
    "    target = np.concatenate([overlap_b, contains_b])\n",
    "\n",
    "    neighbors = {}\n",
    "    [neighbors.setdefault(key, []).append(value) for key, value in zip(source, target)]\n",
    "\n",
    "    neighbors_final = {}\n",
    "\n",
    "    for i, poly in tqdm(gdf.geometry.items(), total=len(gdf)):\n",
    "        if i in neighbors:\n",
    "            if poly.area < merge_limit:\n",
    "                neighbors_final[i] = neighbors[i]\n",
    "            else:\n",
    "                sub = gdf.geometry.iloc[neighbors[i]]\n",
    "                inters = sub.intersection(poly)\n",
    "                include = sub.index[inters.area > (sub.area * overlap_limit)]\n",
    "                neighbors_final[i] = list(include)\n",
    "        else:\n",
    "            neighbors_final[i]=[]\n",
    "    \n",
    "    W = libpysal.weights.W(neighbors_final, silence_warnings=True)\n",
    "    return gdf.dissolve(W.component_labels)"
   ]
  },
  {
   "cell_type": "code",
   "execution_count": 32,
   "metadata": {},
   "outputs": [
    {
     "name": "stderr",
     "output_type": "stream",
     "text": [
      "100%|██████████| 1057251/1057251 [04:38<00:00, 3793.28it/s]\n"
     ]
    }
   ],
   "source": [
    "# all overlapping buildings merged\n",
    "merged=merge_overlapping(buildings,500,0.1)"
   ]
  },
  {
   "cell_type": "code",
   "execution_count": 140,
   "metadata": {},
   "outputs": [
    {
     "name": "stderr",
     "output_type": "stream",
     "text": [
      "100%|██████████| 1057241/1057241 [00:04<00:00, 217284.81it/s]\n"
     ]
    }
   ],
   "source": [
    "# some overlapping buildings not merged, need to be trimmed\n",
    "merged=merge_overlapping2(buildings,300,0.2)"
   ]
  },
  {
   "cell_type": "code",
   "execution_count": 143,
   "metadata": {},
   "outputs": [
    {
     "name": "stdout",
     "output_type": "stream",
     "text": [
      "Collapsed features  : 199\n",
      "Split features      : 410\n",
      "Overlapping features: 26\n"
     ]
    }
   ],
   "source": [
    "check=momepy.CheckTessellationInput(merged)"
   ]
  },
  {
   "cell_type": "code",
   "execution_count": 144,
   "metadata": {},
   "outputs": [
    {
     "data": {
      "text/html": [
       "<div>\n",
       "<style scoped>\n",
       "    .dataframe tbody tr th:only-of-type {\n",
       "        vertical-align: middle;\n",
       "    }\n",
       "\n",
       "    .dataframe tbody tr th {\n",
       "        vertical-align: top;\n",
       "    }\n",
       "\n",
       "    .dataframe thead th {\n",
       "        text-align: right;\n",
       "    }\n",
       "</style>\n",
       "<table border=\"1\" class=\"dataframe\">\n",
       "  <thead>\n",
       "    <tr style=\"text-align: right;\">\n",
       "      <th></th>\n",
       "      <th>geometry</th>\n",
       "    </tr>\n",
       "  </thead>\n",
       "  <tbody>\n",
       "    <tr>\n",
       "      <th>0</th>\n",
       "      <td>POLYGON ((4588533.734 5821521.726, 4588570.786...</td>\n",
       "    </tr>\n",
       "    <tr>\n",
       "      <th>1</th>\n",
       "      <td>POLYGON ((4591889.97 5823105.866, 4591898.467 ...</td>\n",
       "    </tr>\n",
       "    <tr>\n",
       "      <th>2</th>\n",
       "      <td>POLYGON ((4592002.064 5821961.774, 4592000.684...</td>\n",
       "    </tr>\n",
       "    <tr>\n",
       "      <th>3</th>\n",
       "      <td>POLYGON ((4592077.946 5822437.286, 4592070.997...</td>\n",
       "    </tr>\n",
       "    <tr>\n",
       "      <th>4</th>\n",
       "      <td>POLYGON ((4592403.073 5822915.869, 4592383.652...</td>\n",
       "    </tr>\n",
       "    <tr>\n",
       "      <th>...</th>\n",
       "      <td>...</td>\n",
       "    </tr>\n",
       "    <tr>\n",
       "      <th>1056580</th>\n",
       "      <td>POLYGON ((4599145.094 5819669.998, 4599129.491...</td>\n",
       "    </tr>\n",
       "    <tr>\n",
       "      <th>1056581</th>\n",
       "      <td>POLYGON ((4576136.11 5806949.507, 4576173.534 ...</td>\n",
       "    </tr>\n",
       "    <tr>\n",
       "      <th>1056582</th>\n",
       "      <td>POLYGON ((4586770.205 5823065.392, 4586753.742...</td>\n",
       "    </tr>\n",
       "    <tr>\n",
       "      <th>1056583</th>\n",
       "      <td>POLYGON ((4597976.059 5812604.354, 4597984.496...</td>\n",
       "    </tr>\n",
       "    <tr>\n",
       "      <th>1056584</th>\n",
       "      <td>POLYGON ((4598421.808 5812616.361, 4598502.828...</td>\n",
       "    </tr>\n",
       "  </tbody>\n",
       "</table>\n",
       "<p>1056585 rows × 1 columns</p>\n",
       "</div>"
      ],
      "text/plain": [
       "                                                  geometry\n",
       "0        POLYGON ((4588533.734 5821521.726, 4588570.786...\n",
       "1        POLYGON ((4591889.97 5823105.866, 4591898.467 ...\n",
       "2        POLYGON ((4592002.064 5821961.774, 4592000.684...\n",
       "3        POLYGON ((4592077.946 5822437.286, 4592070.997...\n",
       "4        POLYGON ((4592403.073 5822915.869, 4592383.652...\n",
       "...                                                    ...\n",
       "1056580  POLYGON ((4599145.094 5819669.998, 4599129.491...\n",
       "1056581  POLYGON ((4576136.11 5806949.507, 4576173.534 ...\n",
       "1056582  POLYGON ((4586770.205 5823065.392, 4586753.742...\n",
       "1056583  POLYGON ((4597976.059 5812604.354, 4597984.496...\n",
       "1056584  POLYGON ((4598421.808 5812616.361, 4598502.828...\n",
       "\n",
       "[1056585 rows x 1 columns]"
      ]
     },
     "execution_count": 144,
     "metadata": {},
     "output_type": "execute_result"
    }
   ],
   "source": [
    "merged"
   ]
  },
  {
   "cell_type": "markdown",
   "metadata": {},
   "source": [
    "## Trim Overlapping buildings"
   ]
  },
  {
   "cell_type": "code",
   "execution_count": 147,
   "metadata": {},
   "outputs": [],
   "source": [
    "buildings_trimmed = geoplanar.trim_overlaps(merged)"
   ]
  },
  {
   "cell_type": "code",
   "execution_count": 152,
   "metadata": {},
   "outputs": [
    {
     "name": "stdout",
     "output_type": "stream",
     "text": [
      "Collapsed features  : 201\n",
      "Split features      : 410\n",
      "Overlapping features: 0\n"
     ]
    }
   ],
   "source": [
    "check=momepy.CheckTessellationInput(buildings_trimmed)"
   ]
  },
  {
   "cell_type": "markdown",
   "metadata": {},
   "source": [
    "## Check: Validate and Geometry Types"
   ]
  },
  {
   "cell_type": "code",
   "execution_count": 151,
   "metadata": {},
   "outputs": [
    {
     "data": {
      "text/plain": [
       "Polygon    1056589\n",
       "Name: count, dtype: int64"
      ]
     },
     "execution_count": 151,
     "metadata": {},
     "output_type": "execute_result"
    }
   ],
   "source": [
    "buildings_trimmed['geometry'].geom_type.value_counts()"
   ]
  },
  {
   "cell_type": "code",
   "execution_count": 146,
   "metadata": {},
   "outputs": [
    {
     "data": {
      "text/plain": [
       "Polygon    1056585\n",
       "Name: count, dtype: int64"
      ]
     },
     "execution_count": 146,
     "metadata": {},
     "output_type": "execute_result"
    }
   ],
   "source": [
    "merged['geometry'].geom_type.value_counts()"
   ]
  },
  {
   "cell_type": "code",
   "execution_count": 154,
   "metadata": {},
   "outputs": [
    {
     "data": {
      "text/plain": [
       "True    1056589\n",
       "Name: count, dtype: int64"
      ]
     },
     "execution_count": 154,
     "metadata": {},
     "output_type": "execute_result"
    }
   ],
   "source": [
    "buildings_trimmed.is_valid.value_counts()"
   ]
  },
  {
   "cell_type": "markdown",
   "metadata": {},
   "source": [
    "### Save to parquet"
   ]
  },
  {
   "cell_type": "code",
   "execution_count": 155,
   "metadata": {},
   "outputs": [],
   "source": [
    "buildings_trimmed.to_parquet('buildings_berlin_1.parquet')"
   ]
  },
  {
   "cell_type": "code",
   "execution_count": null,
   "metadata": {},
   "outputs": [],
   "source": []
  }
 ],
 "metadata": {
  "kernelspec": {
   "display_name": "Python 3.12.2 ('py312_uscuni_buildingfootprints')",
   "language": "python",
   "name": "python3"
  },
  "language_info": {
   "codemirror_mode": {
    "name": "ipython",
    "version": 3
   },
   "file_extension": ".py",
   "mimetype": "text/x-python",
   "name": "python",
   "nbconvert_exporter": "python",
   "pygments_lexer": "ipython3",
   "version": "3.12.2"
  },
  "orig_nbformat": 4,
  "vscode": {
   "interpreter": {
    "hash": "76677e2634b2febbad16e0327076b293966934baf9ebf315bbf0d6ee94d0f00a"
   }
  }
 },
 "nbformat": 4,
 "nbformat_minor": 2
}
