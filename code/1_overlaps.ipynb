{
 "cells": [
  {
   "cell_type": "markdown",
   "metadata": {},
   "source": [
    "# 1. Fix Overlapping Buildings"
   ]
  },
  {
   "cell_type": "markdown",
   "metadata": {},
   "source": [
    "Overlapping buildings should either be merged to a neighbouring polygon if smaller than a size ``merge_limit`` or if they share area larger than ``area * overlap_limit``, or trimmed if not."
   ]
  },
  {
   "cell_type": "code",
   "execution_count": 1,
   "metadata": {},
   "outputs": [],
   "source": [
    "import geopandas as gpd\n",
    "from tqdm import tqdm\n",
    "import numpy as np\n",
    "import libpysal\n",
    "import geoplanar"
   ]
  },
  {
   "cell_type": "code",
   "execution_count": 6,
   "metadata": {},
   "outputs": [],
   "source": [
    "buildings=gpd.read_parquet('buildings_berlin_1.parquet',columns=['geometry'])"
   ]
  },
  {
   "cell_type": "code",
   "execution_count": 58,
   "metadata": {},
   "outputs": [],
   "source": [
    "buildings=buildings.reset_index(drop=True)"
   ]
  },
  {
   "cell_type": "code",
   "execution_count": 51,
   "metadata": {},
   "outputs": [
    {
     "data": {
      "text/html": [
       "<div>\n",
       "<style scoped>\n",
       "    .dataframe tbody tr th:only-of-type {\n",
       "        vertical-align: middle;\n",
       "    }\n",
       "\n",
       "    .dataframe tbody tr th {\n",
       "        vertical-align: top;\n",
       "    }\n",
       "\n",
       "    .dataframe thead th {\n",
       "        text-align: right;\n",
       "    }\n",
       "</style>\n",
       "<table border=\"1\" class=\"dataframe\">\n",
       "  <thead>\n",
       "    <tr style=\"text-align: right;\">\n",
       "      <th></th>\n",
       "      <th>geometry</th>\n",
       "    </tr>\n",
       "  </thead>\n",
       "  <tbody>\n",
       "    <tr>\n",
       "      <th>0</th>\n",
       "      <td>POLYGON ((13.30277 52.51964, 13.30332 52.51964...</td>\n",
       "    </tr>\n",
       "    <tr>\n",
       "      <th>1</th>\n",
       "      <td>POLYGON ((13.35264 52.53331, 13.35276 52.53322...</td>\n",
       "    </tr>\n",
       "    <tr>\n",
       "      <th>2</th>\n",
       "      <td>POLYGON ((13.35397 52.52302, 13.35395 52.52295...</td>\n",
       "    </tr>\n",
       "    <tr>\n",
       "      <th>3</th>\n",
       "      <td>POLYGON ((13.35522 52.52727, 13.35512 52.52739...</td>\n",
       "    </tr>\n",
       "    <tr>\n",
       "      <th>4</th>\n",
       "      <td>POLYGON ((13.36014 52.53152, 13.35987 52.53184...</td>\n",
       "    </tr>\n",
       "    <tr>\n",
       "      <th>...</th>\n",
       "      <td>...</td>\n",
       "    </tr>\n",
       "    <tr>\n",
       "      <th>1057246</th>\n",
       "      <td>POLYGON ((13.4585 52.50118, 13.45827 52.50122,...</td>\n",
       "    </tr>\n",
       "    <tr>\n",
       "      <th>1057247</th>\n",
       "      <td>POLYGON ((13.11685 52.39058, 13.1174 52.39058,...</td>\n",
       "    </tr>\n",
       "    <tr>\n",
       "      <th>1057248</th>\n",
       "      <td>POLYGON ((13.2772 52.53379, 13.27694 52.53323,...</td>\n",
       "    </tr>\n",
       "    <tr>\n",
       "      <th>1057249</th>\n",
       "      <td>POLYGON ((13.43921 52.43791, 13.43934 52.43803...</td>\n",
       "    </tr>\n",
       "    <tr>\n",
       "      <th>1057250</th>\n",
       "      <td>POLYGON ((13.44577 52.43794, 13.44696 52.43806...</td>\n",
       "    </tr>\n",
       "  </tbody>\n",
       "</table>\n",
       "<p>1057251 rows × 1 columns</p>\n",
       "</div>"
      ],
      "text/plain": [
       "                                                  geometry\n",
       "0        POLYGON ((13.30277 52.51964, 13.30332 52.51964...\n",
       "1        POLYGON ((13.35264 52.53331, 13.35276 52.53322...\n",
       "2        POLYGON ((13.35397 52.52302, 13.35395 52.52295...\n",
       "3        POLYGON ((13.35522 52.52727, 13.35512 52.52739...\n",
       "4        POLYGON ((13.36014 52.53152, 13.35987 52.53184...\n",
       "...                                                    ...\n",
       "1057246  POLYGON ((13.4585 52.50118, 13.45827 52.50122,...\n",
       "1057247  POLYGON ((13.11685 52.39058, 13.1174 52.39058,...\n",
       "1057248  POLYGON ((13.2772 52.53379, 13.27694 52.53323,...\n",
       "1057249  POLYGON ((13.43921 52.43791, 13.43934 52.43803...\n",
       "1057250  POLYGON ((13.44577 52.43794, 13.44696 52.43806...\n",
       "\n",
       "[1057251 rows x 1 columns]"
      ]
     },
     "execution_count": 51,
     "metadata": {},
     "output_type": "execute_result"
    }
   ],
   "source": [
    "buildings"
   ]
  },
  {
   "cell_type": "markdown",
   "metadata": {},
   "source": [
    "## Merge Overlapping Buildings"
   ]
  },
  {
   "cell_type": "code",
   "execution_count": 31,
   "metadata": {},
   "outputs": [],
   "source": [
    "def merge_overlapping(gdf, merge_limit, overlap_limit):\n",
    "    \"\"\"Merge overlapping polygons based on a set of conditions.\n",
    "    \n",
    "    Overlapping polygons smaller than ``merge_limit`` are merged to a neighboring polygon.\n",
    "    If ``largest=None`` it picks one randomly, otherwise it picks the largest (True) or the\n",
    "    smallest (False).\n",
    "    \n",
    "    Polygons larger than ``merge_limit`` are merged to neighboring if they share area larger\n",
    "    than ``area * overlap_limit``.\n",
    "    \n",
    "    Parameters\n",
    "    ----------\n",
    "    gdf : GeoDataFrame\n",
    "        GeoDataFrame with polygon or mutli polygon geometry\n",
    "    merge_limit : float\n",
    "        area of overlapping polygons that are to be merged with neighbors no matter the size\n",
    "        of the overlap\n",
    "    overlap_limit : float (0-1)\n",
    "        ratio of area of an overlapping polygon that has to be shared with other polygon \n",
    "        to merge both into a one\n",
    "    largest : bool (default None)\n",
    "        Merge each overlapping polygons smaller than merge_limit with  the polygon with the largest intersection (True), or smallest (False) neighbor.\n",
    "        If None, merge with any neighbor non-deterministically but performantly.\n",
    "        \n",
    "    Returns\n",
    "    -------\n",
    "\n",
    "    GeoDataFrame\n",
    "    \"\"\"\n",
    "    neighbors = {}\n",
    "    for i, poly in tqdm(gdf.geometry.items(), total=len(gdf)):\n",
    "        \n",
    "        hits_overlaps = gdf.sindex.query(poly, predicate='overlaps')\n",
    "        hits_overlaps = hits_overlaps[hits_overlaps != i]\n",
    "\n",
    "        hits_contains = gdf.sindex.query(poly, predicate='contains')\n",
    "        hits_contains = hits_contains[hits_contains != i]\n",
    "\n",
    "        if poly.area < merge_limit:\n",
    "            neighbors[i] = np.unique(np.concatenate([hits_overlaps,hits_contains]))\n",
    "        else:\n",
    "            sub = gdf.geometry.iloc[np.unique(np.concatenate([hits_overlaps,hits_contains]))]\n",
    "            inters = sub.intersection(poly)\n",
    "            include = sub.index[inters.area > (sub.area * overlap_limit)]\n",
    "            neighbors[i] = list(include)\n",
    "    \n",
    "    W = libpysal.weights.W(neighbors, silence_warnings=True)\n",
    "    return gdf.dissolve(W.component_labels)"
   ]
  },
  {
   "cell_type": "code",
   "execution_count": 32,
   "metadata": {},
   "outputs": [
    {
     "name": "stderr",
     "output_type": "stream",
     "text": [
      "100%|██████████| 1057251/1057251 [04:38<00:00, 3793.28it/s]\n"
     ]
    }
   ],
   "source": [
    "# all overlapping buildings merged\n",
    "merged=merge_overlapping(buildings,500,0.1)"
   ]
  },
  {
   "cell_type": "code",
   "execution_count": 65,
   "metadata": {},
   "outputs": [
    {
     "name": "stderr",
     "output_type": "stream",
     "text": [
      "100%|██████████| 1057251/1057251 [07:27<00:00, 2363.80it/s]\n"
     ]
    }
   ],
   "source": [
    "# some overlapping buildings not merged, need to be trimmed\n",
    "merged=merge_overlapping(buildings,300,0.2)"
   ]
  },
  {
   "cell_type": "code",
   "execution_count": 69,
   "metadata": {},
   "outputs": [
    {
     "name": "stdout",
     "output_type": "stream",
     "text": [
      "Collapsed features  : 200\n",
      "Split features      : 411\n",
      "Overlapping features: 26\n"
     ]
    }
   ],
   "source": [
    "check=momepy.CheckTessellationInput(merged)"
   ]
  },
  {
   "cell_type": "code",
   "execution_count": 33,
   "metadata": {},
   "outputs": [
    {
     "data": {
      "text/html": [
       "<div>\n",
       "<style scoped>\n",
       "    .dataframe tbody tr th:only-of-type {\n",
       "        vertical-align: middle;\n",
       "    }\n",
       "\n",
       "    .dataframe tbody tr th {\n",
       "        vertical-align: top;\n",
       "    }\n",
       "\n",
       "    .dataframe thead th {\n",
       "        text-align: right;\n",
       "    }\n",
       "</style>\n",
       "<table border=\"1\" class=\"dataframe\">\n",
       "  <thead>\n",
       "    <tr style=\"text-align: right;\">\n",
       "      <th></th>\n",
       "      <th>geometry</th>\n",
       "    </tr>\n",
       "  </thead>\n",
       "  <tbody>\n",
       "    <tr>\n",
       "      <th>0</th>\n",
       "      <td>POLYGON ((13.30277 52.51964, 13.30332 52.51964...</td>\n",
       "    </tr>\n",
       "    <tr>\n",
       "      <th>1</th>\n",
       "      <td>POLYGON ((13.35264 52.53331, 13.35276 52.53322...</td>\n",
       "    </tr>\n",
       "    <tr>\n",
       "      <th>2</th>\n",
       "      <td>POLYGON ((13.35397 52.52302, 13.35395 52.52295...</td>\n",
       "    </tr>\n",
       "    <tr>\n",
       "      <th>3</th>\n",
       "      <td>POLYGON ((13.35522 52.52727, 13.35512 52.52739...</td>\n",
       "    </tr>\n",
       "    <tr>\n",
       "      <th>4</th>\n",
       "      <td>POLYGON ((13.36014 52.53152, 13.35987 52.53184...</td>\n",
       "    </tr>\n",
       "    <tr>\n",
       "      <th>...</th>\n",
       "      <td>...</td>\n",
       "    </tr>\n",
       "    <tr>\n",
       "      <th>1056493</th>\n",
       "      <td>POLYGON ((13.4585 52.50118, 13.45827 52.50122,...</td>\n",
       "    </tr>\n",
       "    <tr>\n",
       "      <th>1056494</th>\n",
       "      <td>POLYGON ((13.11685 52.39058, 13.1174 52.39058,...</td>\n",
       "    </tr>\n",
       "    <tr>\n",
       "      <th>1056495</th>\n",
       "      <td>POLYGON ((13.2772 52.53379, 13.27694 52.53323,...</td>\n",
       "    </tr>\n",
       "    <tr>\n",
       "      <th>1056496</th>\n",
       "      <td>POLYGON ((13.43921 52.43791, 13.43934 52.43803...</td>\n",
       "    </tr>\n",
       "    <tr>\n",
       "      <th>1056497</th>\n",
       "      <td>POLYGON ((13.44577 52.43794, 13.44696 52.43806...</td>\n",
       "    </tr>\n",
       "  </tbody>\n",
       "</table>\n",
       "<p>1056498 rows × 1 columns</p>\n",
       "</div>"
      ],
      "text/plain": [
       "                                                  geometry\n",
       "0        POLYGON ((13.30277 52.51964, 13.30332 52.51964...\n",
       "1        POLYGON ((13.35264 52.53331, 13.35276 52.53322...\n",
       "2        POLYGON ((13.35397 52.52302, 13.35395 52.52295...\n",
       "3        POLYGON ((13.35522 52.52727, 13.35512 52.52739...\n",
       "4        POLYGON ((13.36014 52.53152, 13.35987 52.53184...\n",
       "...                                                    ...\n",
       "1056493  POLYGON ((13.4585 52.50118, 13.45827 52.50122,...\n",
       "1056494  POLYGON ((13.11685 52.39058, 13.1174 52.39058,...\n",
       "1056495  POLYGON ((13.2772 52.53379, 13.27694 52.53323,...\n",
       "1056496  POLYGON ((13.43921 52.43791, 13.43934 52.43803...\n",
       "1056497  POLYGON ((13.44577 52.43794, 13.44696 52.43806...\n",
       "\n",
       "[1056498 rows x 1 columns]"
      ]
     },
     "execution_count": 33,
     "metadata": {},
     "output_type": "execute_result"
    }
   ],
   "source": [
    "merged"
   ]
  },
  {
   "cell_type": "markdown",
   "metadata": {},
   "source": [
    "## Trim Overlapping buildings"
   ]
  },
  {
   "cell_type": "code",
   "execution_count": 9,
   "metadata": {},
   "outputs": [],
   "source": [
    "buildings_trimmed = geoplanar.trim_overlaps(merged)"
   ]
  },
  {
   "cell_type": "code",
   "execution_count": 12,
   "metadata": {},
   "outputs": [
    {
     "name": "stderr",
     "output_type": "stream",
     "text": [
      "/Users/lisawinkler/opt/anaconda3/envs/py312_uscuni_buildingfootprints/lib/python3.12/site-packages/geoplanar/overlap.py:78: FutureWarning: The 'unary_union' attribute is deprecated, use the 'union_all()' method instead.\n",
      "  uu = gdf.unary_union\n"
     ]
    },
    {
     "ename": "",
     "evalue": "",
     "output_type": "error",
     "traceback": [
      "\u001b[1;31mCanceled future for execute_request message before replies were done"
     ]
    }
   ],
   "source": [
    "# very slow\n",
    "geoplanar.is_overlapping(buildings_trimmed)"
   ]
  },
  {
   "cell_type": "code",
   "execution_count": 11,
   "metadata": {},
   "outputs": [],
   "source": [
    "import momepy"
   ]
  },
  {
   "cell_type": "code",
   "execution_count": 12,
   "metadata": {},
   "outputs": [
    {
     "name": "stdout",
     "output_type": "stream",
     "text": [
      "Collapsed features  : 200\n",
      "Split features      : 413\n",
      "Overlapping features: 0\n"
     ]
    }
   ],
   "source": [
    "check=momepy.CheckTessellationInput(buildings_trimmed)"
   ]
  },
  {
   "cell_type": "markdown",
   "metadata": {},
   "source": [
    "## Check: Validate and Geometry Types"
   ]
  },
  {
   "cell_type": "code",
   "execution_count": 13,
   "metadata": {},
   "outputs": [
    {
     "data": {
      "text/plain": [
       "Polygon         1056590\n",
       "MultiPolygon          3\n",
       "Name: count, dtype: int64"
      ]
     },
     "execution_count": 13,
     "metadata": {},
     "output_type": "execute_result"
    }
   ],
   "source": [
    "buildings_trimmed['geometry'].geom_type.value_counts()"
   ]
  },
  {
   "cell_type": "code",
   "execution_count": 17,
   "metadata": {},
   "outputs": [
    {
     "data": {
      "text/html": [
       "<div style=\"width:100%;\"><div style=\"position:relative;width:100%;height:0;padding-bottom:60%;\"><span style=\"color:#565656\">Make this Notebook Trusted to load map: File -> Trust Notebook</span><iframe srcdoc=\"&lt;!DOCTYPE html&gt;\n",
       "&lt;html&gt;\n",
       "&lt;head&gt;\n",
       "    \n",
       "    &lt;meta http-equiv=&quot;content-type&quot; content=&quot;text/html; charset=UTF-8&quot; /&gt;\n",
       "    \n",
       "        &lt;script&gt;\n",
       "            L_NO_TOUCH = false;\n",
       "            L_DISABLE_3D = false;\n",
       "        &lt;/script&gt;\n",
       "    \n",
       "    &lt;style&gt;html, body {width: 100%;height: 100%;margin: 0;padding: 0;}&lt;/style&gt;\n",
       "    &lt;style&gt;#map {position:absolute;top:0;bottom:0;right:0;left:0;}&lt;/style&gt;\n",
       "    &lt;script src=&quot;https://cdn.jsdelivr.net/npm/leaflet@1.9.3/dist/leaflet.js&quot;&gt;&lt;/script&gt;\n",
       "    &lt;script src=&quot;https://code.jquery.com/jquery-3.7.1.min.js&quot;&gt;&lt;/script&gt;\n",
       "    &lt;script src=&quot;https://cdn.jsdelivr.net/npm/bootstrap@5.2.2/dist/js/bootstrap.bundle.min.js&quot;&gt;&lt;/script&gt;\n",
       "    &lt;script src=&quot;https://cdnjs.cloudflare.com/ajax/libs/Leaflet.awesome-markers/2.0.2/leaflet.awesome-markers.js&quot;&gt;&lt;/script&gt;\n",
       "    &lt;link rel=&quot;stylesheet&quot; href=&quot;https://cdn.jsdelivr.net/npm/leaflet@1.9.3/dist/leaflet.css&quot;/&gt;\n",
       "    &lt;link rel=&quot;stylesheet&quot; href=&quot;https://cdn.jsdelivr.net/npm/bootstrap@5.2.2/dist/css/bootstrap.min.css&quot;/&gt;\n",
       "    &lt;link rel=&quot;stylesheet&quot; href=&quot;https://netdna.bootstrapcdn.com/bootstrap/3.0.0/css/bootstrap.min.css&quot;/&gt;\n",
       "    &lt;link rel=&quot;stylesheet&quot; href=&quot;https://cdn.jsdelivr.net/npm/@fortawesome/fontawesome-free@6.2.0/css/all.min.css&quot;/&gt;\n",
       "    &lt;link rel=&quot;stylesheet&quot; href=&quot;https://cdnjs.cloudflare.com/ajax/libs/Leaflet.awesome-markers/2.0.2/leaflet.awesome-markers.css&quot;/&gt;\n",
       "    &lt;link rel=&quot;stylesheet&quot; href=&quot;https://cdn.jsdelivr.net/gh/python-visualization/folium/folium/templates/leaflet.awesome.rotate.min.css&quot;/&gt;\n",
       "    \n",
       "            &lt;meta name=&quot;viewport&quot; content=&quot;width=device-width,\n",
       "                initial-scale=1.0, maximum-scale=1.0, user-scalable=no&quot; /&gt;\n",
       "            &lt;style&gt;\n",
       "                #map_3f6fc49ded7f7c393d5dc902886251a9 {\n",
       "                    position: relative;\n",
       "                    width: 100.0%;\n",
       "                    height: 100.0%;\n",
       "                    left: 0.0%;\n",
       "                    top: 0.0%;\n",
       "                }\n",
       "                .leaflet-container { font-size: 1rem; }\n",
       "            &lt;/style&gt;\n",
       "        \n",
       "    \n",
       "                    &lt;style&gt;\n",
       "                        .foliumtooltip {\n",
       "                            \n",
       "                        }\n",
       "                       .foliumtooltip table{\n",
       "                            margin: auto;\n",
       "                        }\n",
       "                        .foliumtooltip tr{\n",
       "                            text-align: left;\n",
       "                        }\n",
       "                        .foliumtooltip th{\n",
       "                            padding: 2px; padding-right: 8px;\n",
       "                        }\n",
       "                    &lt;/style&gt;\n",
       "            \n",
       "&lt;/head&gt;\n",
       "&lt;body&gt;\n",
       "    \n",
       "    \n",
       "            &lt;div class=&quot;folium-map&quot; id=&quot;map_3f6fc49ded7f7c393d5dc902886251a9&quot; &gt;&lt;/div&gt;\n",
       "        \n",
       "&lt;/body&gt;\n",
       "&lt;script&gt;\n",
       "    \n",
       "    \n",
       "            var map_3f6fc49ded7f7c393d5dc902886251a9 = L.map(\n",
       "                &quot;map_3f6fc49ded7f7c393d5dc902886251a9&quot;,\n",
       "                {\n",
       "                    center: [52.44534519999999, 13.482750749999994],\n",
       "                    crs: L.CRS.EPSG3857,\n",
       "                    zoom: 10,\n",
       "                    zoomControl: true,\n",
       "                    preferCanvas: false,\n",
       "                }\n",
       "            );\n",
       "            L.control.scale().addTo(map_3f6fc49ded7f7c393d5dc902886251a9);\n",
       "\n",
       "            \n",
       "\n",
       "        \n",
       "    \n",
       "            var tile_layer_4f49da04faf46d0411605cebd5678d23 = L.tileLayer(\n",
       "                &quot;https://tile.openstreetmap.org/{z}/{x}/{y}.png&quot;,\n",
       "                {&quot;attribution&quot;: &quot;\\u0026copy; \\u003ca href=\\&quot;https://www.openstreetmap.org/copyright\\&quot;\\u003eOpenStreetMap\\u003c/a\\u003e contributors&quot;, &quot;detectRetina&quot;: false, &quot;maxNativeZoom&quot;: 19, &quot;maxZoom&quot;: 19, &quot;minZoom&quot;: 0, &quot;noWrap&quot;: false, &quot;opacity&quot;: 1, &quot;subdomains&quot;: &quot;abc&quot;, &quot;tms&quot;: false}\n",
       "            );\n",
       "        \n",
       "    \n",
       "            tile_layer_4f49da04faf46d0411605cebd5678d23.addTo(map_3f6fc49ded7f7c393d5dc902886251a9);\n",
       "        \n",
       "    \n",
       "            map_3f6fc49ded7f7c393d5dc902886251a9.fitBounds(\n",
       "                [[52.3606619, 13.454180799999989], [52.53002849999999, 13.511320699999997]],\n",
       "                {}\n",
       "            );\n",
       "        \n",
       "    \n",
       "        function geo_json_befc72af5a929013ddc543ff28f3e663_styler(feature) {\n",
       "            switch(feature.id) {\n",
       "                default:\n",
       "                    return {&quot;fillOpacity&quot;: 0.5, &quot;weight&quot;: 2};\n",
       "            }\n",
       "        }\n",
       "        function geo_json_befc72af5a929013ddc543ff28f3e663_highlighter(feature) {\n",
       "            switch(feature.id) {\n",
       "                default:\n",
       "                    return {&quot;fillOpacity&quot;: 0.75};\n",
       "            }\n",
       "        }\n",
       "        function geo_json_befc72af5a929013ddc543ff28f3e663_pointToLayer(feature, latlng) {\n",
       "            var opts = {&quot;bubblingMouseEvents&quot;: true, &quot;color&quot;: &quot;#3388ff&quot;, &quot;dashArray&quot;: null, &quot;dashOffset&quot;: null, &quot;fill&quot;: true, &quot;fillColor&quot;: &quot;#3388ff&quot;, &quot;fillOpacity&quot;: 0.2, &quot;fillRule&quot;: &quot;evenodd&quot;, &quot;lineCap&quot;: &quot;round&quot;, &quot;lineJoin&quot;: &quot;round&quot;, &quot;opacity&quot;: 1.0, &quot;radius&quot;: 2, &quot;stroke&quot;: true, &quot;weight&quot;: 3};\n",
       "            \n",
       "            let style = geo_json_befc72af5a929013ddc543ff28f3e663_styler(feature)\n",
       "            Object.assign(opts, style)\n",
       "            \n",
       "            return new L.CircleMarker(latlng, opts)\n",
       "        }\n",
       "\n",
       "        function geo_json_befc72af5a929013ddc543ff28f3e663_onEachFeature(feature, layer) {\n",
       "            layer.on({\n",
       "                mouseout: function(e) {\n",
       "                    if(typeof e.target.setStyle === &quot;function&quot;){\n",
       "                            geo_json_befc72af5a929013ddc543ff28f3e663.resetStyle(e.target);\n",
       "                    }\n",
       "                },\n",
       "                mouseover: function(e) {\n",
       "                    if(typeof e.target.setStyle === &quot;function&quot;){\n",
       "                        const highlightStyle = geo_json_befc72af5a929013ddc543ff28f3e663_highlighter(e.target.feature)\n",
       "                        e.target.setStyle(highlightStyle);\n",
       "                    }\n",
       "                },\n",
       "            });\n",
       "        };\n",
       "        var geo_json_befc72af5a929013ddc543ff28f3e663 = L.geoJson(null, {\n",
       "                onEachFeature: geo_json_befc72af5a929013ddc543ff28f3e663_onEachFeature,\n",
       "            \n",
       "                style: geo_json_befc72af5a929013ddc543ff28f3e663_styler,\n",
       "                pointToLayer: geo_json_befc72af5a929013ddc543ff28f3e663_pointToLayer,\n",
       "        });\n",
       "\n",
       "        function geo_json_befc72af5a929013ddc543ff28f3e663_add (data) {\n",
       "            geo_json_befc72af5a929013ddc543ff28f3e663\n",
       "                .addData(data);\n",
       "        }\n",
       "            geo_json_befc72af5a929013ddc543ff28f3e663_add({&quot;bbox&quot;: [13.454180799999989, 52.3606619, 13.511320699999997, 52.53002849999999], &quot;features&quot;: [{&quot;bbox&quot;: [13.504916399999992, 52.3606619, 13.510264499999982, 52.36689119999999], &quot;geometry&quot;: {&quot;coordinates&quot;: [[[[13.507959772256264, 52.36205353932409], [13.507857999999999, 52.362029499999984], [13.5077284, 52.36199880000001], [13.507703599999989, 52.362037900000004], [13.50769132005336, 52.362409444187804], [13.507691320050386, 52.3624094442779], [13.507627599999994, 52.36239439999999], [13.507498299999988, 52.362363800000004], [13.507470499999997, 52.362407699999984], [13.507496980969389, 52.36241396212992], [13.507487247171431, 52.36278413400906], [13.507487247168397, 52.3627841341247], [13.50739529999999, 52.36276239999999], [13.507261399999994, 52.3627307], [13.507235599999994, 52.36277149999999], [13.507249053339367, 52.36277467495683], [13.50714985759112, 52.36312797929392], [13.507162599999996, 52.363130999999996], [13.507029299999987, 52.3630994], [13.507004899999991, 52.363138], [13.507017546137273, 52.36314098840545], [13.506917657939471, 52.36349442037689], [13.506931099999985, 52.36349759999999], [13.506799199999996, 52.36346639999999], [13.506773299999988, 52.36350730000001], [13.506713637279514, 52.36428647993613], [13.50678739999999, 52.36430389999999], [13.506469399999995, 52.3642288], [13.506335199999988, 52.364197100000005], [13.506307699999999, 52.364240599999995], [13.506237499999985, 52.3645961], [13.506104599999992, 52.36456469999998], [13.506078099999995, 52.36460649999999], [13.506091769409693, 52.36460972965131], [13.505992156979126, 52.36495932486941], [13.506005999999996, 52.3649626], [13.50586989999999, 52.3649304], [13.505842699999993, 52.364973199999994], [13.505758981390924, 52.36532561547817], [13.505774499999994, 52.3653293], [13.505639299999993, 52.3652972], [13.505612899999994, 52.365338900000005], [13.505626756956493, 52.365342187579934], [13.505528964957854, 52.36569293382078], [13.505542799999988, 52.3656962], [13.505408099999997, 52.365664399999986], [13.505381699999996, 52.36570609999999], [13.505379118174352, 52.36607891562234], [13.50537911817371, 52.36607891571442], [13.505311299999992, 52.36606290000001], [13.505176599999993, 52.366030999999985], [13.505150099999993, 52.3660728], [13.505163969249718, 52.36607607183521], [13.505163969252143, 52.36607607182655], [13.505284899999994, 52.366104599999986], [13.505378786710391, 52.36612677901866], [13.505377604486087, 52.366297492207075], [13.50559879004576, 52.366178750402774], [13.505598999999984, 52.3661788], [13.505393099999985, 52.36650370000001], [13.505115561942512, 52.366438167775875], [13.505053099999989, 52.36647169999999], [13.505366699999986, 52.3665455], [13.505231699999998, 52.36677329999999], [13.505729099999987, 52.36689119999999], [13.505804199999993, 52.366772699999984], [13.505838999999993, 52.3667178], [13.506483057882093, 52.365704037882296], [13.507223831430542, 52.36530635989852], [13.506866399999993, 52.36522389999998], [13.506906099999993, 52.3651611], [13.507261499999997, 52.365243299999996], [13.507696799999998, 52.36534399999999], [13.508264299999992, 52.3654753], [13.50838259999999, 52.36528369999999], [13.508929599999986, 52.3654135], [13.50894599999999, 52.3653801], [13.510224605544913, 52.363344225598595], [13.510224499999996, 52.36334419999999], [13.510264499999982, 52.3632807], [13.509743299999998, 52.36315619999999], [13.509853899999996, 52.3629856], [13.509444010878946, 52.36288790899236], [13.509444004658704, 52.362887764416435], [13.509272799999989, 52.362846899999994], [13.509272680633917, 52.36284707441124], [13.508583269246975, 52.36268275789577], [13.508583233156417, 52.362681661291724], [13.508547652315954, 52.36267317129117], [13.508495564658382, 52.36266074254759], [13.508495544154991, 52.36266184883875], [13.508419399999987, 52.3626437], [13.508434943203815, 52.36264715652309], [13.50843478988883, 52.362619348693094], [13.508498191101129, 52.362519029125615], [13.508495788789718, 52.36264864924122], [13.508522699999986, 52.36260619999999], [13.508581205484985, 52.36262005168049], [13.508573936211706, 52.362399177208744], [13.509208942843076, 52.36139437554314], [13.509182163693746, 52.36191144425335], [13.509213499999994, 52.3618623], [13.509388190656901, 52.36159051412049], [13.509368864900326, 52.36114131551906], [13.50942119999999, 52.3610585], [13.509445299999992, 52.3610205], [13.509522499999994, 52.360898600000006], [13.509356736759983, 52.36085942509624], [13.509356736757768, 52.36085942504488], [13.509352699999987, 52.36076559999999], [13.50940869999999, 52.3606768], [13.509345599999994, 52.3606619], [13.509288899999985, 52.36075189999999], [13.509238099999996, 52.360831399999995], [13.509020799999995, 52.36077999999999], [13.508878099999997, 52.36100519999999], [13.50855459999999, 52.36092609999999], [13.508425299999988, 52.360898099999986], [13.508398899999985, 52.3609397], [13.508412028048028, 52.360942807663456], [13.50830857451405, 52.3612912994147], [13.508322099999997, 52.361294499999985], [13.508019099999988, 52.3612228], [13.507991699999996, 52.36126599999999], [13.508294799999994, 52.3613377], [13.508293461271252, 52.36170912393668], [13.508293461270762, 52.36170912407157], [13.508090599999997, 52.3616612], [13.507961499999992, 52.3616306], [13.507934599999999, 52.36167309999999], [13.50796130063476, 52.361679403183516], [13.50795977225677, 52.36205353920014], [13.507959772256264, 52.36205353932409]], [[13.506441899999995, 52.36427229999999], [13.506709875635329, 52.36433560605124], [13.506701991005396, 52.3644385773103], [13.506701990971617, 52.36443857775151], [13.506589499999993, 52.364616000000005], [13.50655469999999, 52.364670999999994], [13.506346684291826, 52.36462188166211], [13.506346684278688, 52.364621881533644], [13.506307699999999, 52.364240599999995], [13.506441899999995, 52.36427229999999]], [[13.508425564156358, 52.3609460119207], [13.508526899999993, 52.36096999999999], [13.508520019202313, 52.36134126314279], [13.508520019199763, 52.361341263280195], [13.50842762296361, 52.36131943245008], [13.508427622962914, 52.36131943232252], [13.508425564156358, 52.3609460119207]], [[13.508851799999999, 52.361046800000004], [13.508646299999993, 52.36137109999999], [13.508539268475532, 52.361345811372104], [13.508539268471278, 52.36134581124274], [13.508526899999993, 52.36096999999999], [13.508851799999999, 52.361046800000004]], [[13.5084278971149, 52.36136915721845], [13.508519102717834, 52.36139071335467], [13.508515646130874, 52.36157721837913], [13.508515646118918, 52.36157721902446], [13.508429791108334, 52.36171268429085], [13.508429791107357, 52.361712684114124], [13.5084278971149, 52.36136915721845]], [[13.508545342327373, 52.36153036302447], [13.508545342309331, 52.36153036247627], [13.50854091593589, 52.361395868821475], [13.50861889999999, 52.36141429999999], [13.508545342327373, 52.36153036302447]], [[13.508063799999999, 52.36170359999999], [13.508293285656755, 52.361757847347036], [13.508292669291897, 52.361928854854135], [13.508180599999987, 52.3621057], [13.50808785046472, 52.36208379213695], [13.50808785045716, 52.362083792017465], [13.508063799999999, 52.36170359999999]], [[13.507949499999997, 52.3624704], [13.50784773300343, 52.36244637312228], [13.50784773299866, 52.36244637299751], [13.507833299999989, 52.362068599999986], [13.507959588872714, 52.36209843030456], [13.507958124925976, 52.362456794012104], [13.507958124925555, 52.362456794114564], [13.507949499999997, 52.3624704]], [[13.50809753420629, 52.36223687368623], [13.508097534176631, 52.362236873217476], [13.508090736064894, 52.36212940799138], [13.508155899999993, 52.362144799999996], [13.50809753420629, 52.36223687368623]], [[13.507599899999986, 52.36243829999999], [13.507689665646575, 52.36245950020553], [13.507677450187721, 52.36282909323964], [13.507677450185724, 52.362829093299865], [13.507600853541023, 52.362810987841414], [13.50760085354068, 52.362810987710176], [13.507599899999986, 52.36243829999999]], [[13.507854386853664, 52.362620532699836], [13.507854386833685, 52.362620532176734], [13.507849678331286, 52.36249729063124], [13.507921699999999, 52.362514299999994], [13.507854386853664, 52.362620532699836]], [[13.507369499999989, 52.36280309999999], [13.507486024187395, 52.362830643531915], [13.50747617998913, 52.36320501388441], [13.507476179988826, 52.36320501389597], [13.507380353273446, 52.36318239615031], [13.50738035326989, 52.36318239602623], [13.507369499999989, 52.36280309999999]], [[13.507654299999992, 52.3629363], [13.507601387653937, 52.36301974382276], [13.507601387652985, 52.36301974345039], [13.507600973349739, 52.362857814618614], [13.507675915435723, 52.36287552896155], [13.507674986112876, 52.36290364671437], [13.507674986112203, 52.36290364673475], [13.507654299999992, 52.3629363]], [[13.507385442695519, 52.36336025937431], [13.507385442679432, 52.36336025881204], [13.507381628842033, 52.363226974245734], [13.507458399999997, 52.363245099999986], [13.507385442695519, 52.36336025937431]], [[13.506379919296236, 52.3649469330386], [13.506379919251552, 52.364946932601505], [13.50635172415527, 52.364671173503005], [13.50652819999999, 52.3647129], [13.506379919296236, 52.3649469330386]]], [[[13.505079699999985, 52.36642969999998], [13.504942799999988, 52.366397299999996], [13.504916399999992, 52.366439], [13.505053099999989, 52.36647169999999], [13.505079699999985, 52.36642969999998]]], [[[13.509138628699292, 52.362752024558695], [13.509441246892017, 52.36282366956928], [13.509435594201943, 52.36269229141672], [13.50914537259473, 52.36262181408672], [13.509138628699292, 52.362752024558695]]]], &quot;type&quot;: &quot;MultiPolygon&quot;}, &quot;id&quot;: &quot;1018607&quot;, &quot;properties&quot;: {}, &quot;type&quot;: &quot;Feature&quot;}, {&quot;bbox&quot;: [13.454180799999989, 52.52887269999999, 13.455467099999998, 52.53002849999999], &quot;geometry&quot;: {&quot;coordinates&quot;: [[[[13.454685099999988, 52.52947989999999], [13.454560499999989, 52.52960289999999], [13.454180799999989, 52.529982999999994], [13.454307099999996, 52.53002849999999], [13.454696999999987, 52.529655299999995], [13.45482239999999, 52.5295333], [13.45546678856159, 52.52892109588832], [13.4553383194707, 52.52887491598011], [13.455332099999993, 52.52887269999999], [13.454685099999988, 52.52947989999999]]], [[[13.455467094130327, 52.52892079790866], [13.455466994541744, 52.52892090019273], [13.455467099999998, 52.5289208], [13.455467094130327, 52.52892079790866]]]], &quot;type&quot;: &quot;MultiPolygon&quot;}, &quot;id&quot;: &quot;1049156&quot;, &quot;properties&quot;: {}, &quot;type&quot;: &quot;Feature&quot;}, {&quot;bbox&quot;: [13.510253799999994, 52.364145002124275, 13.511320699999997, 52.3651339], &quot;geometry&quot;: {&quot;coordinates&quot;: [[[[13.511320699999997, 52.364244500000005], [13.510894133995043, 52.364145002124275], [13.510883999999994, 52.3641608], [13.510935199999997, 52.364173300000004], [13.51092109999999, 52.364196099999994], [13.510908399999998, 52.36421639999999], [13.510856299999997, 52.364204], [13.51080899999999, 52.3642778], [13.510734564813065, 52.36426023446139], [13.510328630785235, 52.36489760738081], [13.510409099999995, 52.36491689999999], [13.51035759999999, 52.3649998], [13.510406699999995, 52.365010899999994], [13.510394599999996, 52.3650297], [13.510385499999996, 52.365043699999994], [13.510335999999993, 52.36503179999999], [13.510334169626912, 52.365034692122826], [13.510719299999991, 52.365125899999995], [13.51075319999999, 52.3651339], [13.511320699999997, 52.364244500000005]], [[13.510776499999997, 52.36436330000001], [13.510869499999988, 52.3642124], [13.51118919999999, 52.36428649999999], [13.511087799999995, 52.3644397], [13.510776499999997, 52.36436330000001]], [[13.51038229999999, 52.36499589999999], [13.510474299999986, 52.36484649999999], [13.510781099999992, 52.36491939999999], [13.510688699999994, 52.3650677], [13.51038229999999, 52.36499589999999]]], [[[13.510253799999994, 52.36501509999999], [13.51025413635728, 52.365015184525085], [13.510322392428208, 52.364907402317456], [13.510253799999994, 52.36501509999999]]]], &quot;type&quot;: &quot;MultiPolygon&quot;}, &quot;id&quot;: &quot;1056244&quot;, &quot;properties&quot;: {}, &quot;type&quot;: &quot;Feature&quot;}], &quot;type&quot;: &quot;FeatureCollection&quot;});\n",
       "\n",
       "        \n",
       "    \n",
       "    geo_json_befc72af5a929013ddc543ff28f3e663.bindTooltip(\n",
       "    function(layer){\n",
       "    let div = L.DomUtil.create(&#x27;div&#x27;);\n",
       "    \n",
       "    return div\n",
       "    }\n",
       "    ,{&quot;className&quot;: &quot;foliumtooltip&quot;, &quot;sticky&quot;: true});\n",
       "                     \n",
       "    \n",
       "            geo_json_befc72af5a929013ddc543ff28f3e663.addTo(map_3f6fc49ded7f7c393d5dc902886251a9);\n",
       "        \n",
       "&lt;/script&gt;\n",
       "&lt;/html&gt;\" style=\"position:absolute;width:100%;height:100%;left:0;top:0;border:none !important;\" allowfullscreen webkitallowfullscreen mozallowfullscreen></iframe></div></div>"
      ],
      "text/plain": [
       "<folium.folium.Map at 0x15ef9fce0>"
      ]
     },
     "execution_count": 17,
     "metadata": {},
     "output_type": "execute_result"
    }
   ],
   "source": [
    "buildings_trimmed[buildings_trimmed.geom_type=='MultiPolygon'].explore()"
   ]
  },
  {
   "cell_type": "code",
   "execution_count": 23,
   "metadata": {},
   "outputs": [
    {
     "name": "stderr",
     "output_type": "stream",
     "text": [
      "/Users/lisawinkler/opt/anaconda3/envs/py312_uscuni_buildingfootprints/lib/python3.12/site-packages/geopandas/geodataframe.py:2469: FutureWarning: The `drop` keyword argument is deprecated and in future the only supported behaviour will match drop=False. To silence this warning and adopt the future behaviour, stop providing `drop` as a keyword to `set_geometry`. To replicate the `drop=True` behaviour you should update your code to\n",
      "`geo_col_name = gdf.active_geometry_name; gdf.set_geometry(new_geo_col).drop(columns=geo_col_name).rename_geometry(geo_col_name)`.\n",
      "  return gf.set_geometry(col, drop=drop, inplace=False, crs=crs)\n"
     ]
    }
   ],
   "source": [
    "buildings_trimmed=buildings_trimmed.explode(ignore_index=True)"
   ]
  },
  {
   "cell_type": "markdown",
   "metadata": {},
   "source": [
    "geoplanar.trim can lead to MultiPolygons"
   ]
  },
  {
   "cell_type": "code",
   "execution_count": 14,
   "metadata": {},
   "outputs": [],
   "source": [
    "from shapely.validation import explain_validity"
   ]
  },
  {
   "cell_type": "code",
   "execution_count": 18,
   "metadata": {},
   "outputs": [],
   "source": [
    "merged = buildings_trimmed"
   ]
  },
  {
   "cell_type": "code",
   "execution_count": 20,
   "metadata": {},
   "outputs": [],
   "source": [
    "merged['validity'] = merged.apply(lambda row: explain_validity(row.geometry), axis=1)"
   ]
  },
  {
   "cell_type": "code",
   "execution_count": 21,
   "metadata": {},
   "outputs": [
    {
     "data": {
      "text/plain": [
       "validity\n",
       "Valid Geometry    1056593\n",
       "Name: count, dtype: int64"
      ]
     },
     "execution_count": 21,
     "metadata": {},
     "output_type": "execute_result"
    }
   ],
   "source": [
    "merged['validity'].value_counts()"
   ]
  },
  {
   "cell_type": "markdown",
   "metadata": {},
   "source": [
    "### Save to parquet"
   ]
  },
  {
   "cell_type": "code",
   "execution_count": null,
   "metadata": {},
   "outputs": [],
   "source": [
    "buildings_trimmed.to_parquet('buildings_berlin_1.parquet')"
   ]
  },
  {
   "cell_type": "code",
   "execution_count": null,
   "metadata": {},
   "outputs": [],
   "source": []
  }
 ],
 "metadata": {
  "kernelspec": {
   "display_name": "Python 3.12.2 ('py312_uscuni_buildingfootprints')",
   "language": "python",
   "name": "python3"
  },
  "language_info": {
   "codemirror_mode": {
    "name": "ipython",
    "version": 3
   },
   "file_extension": ".py",
   "mimetype": "text/x-python",
   "name": "python",
   "nbconvert_exporter": "python",
   "pygments_lexer": "ipython3",
   "version": "3.12.2"
  },
  "orig_nbformat": 4,
  "vscode": {
   "interpreter": {
    "hash": "76677e2634b2febbad16e0327076b293966934baf9ebf315bbf0d6ee94d0f00a"
   }
  }
 },
 "nbformat": 4,
 "nbformat_minor": 2
}
