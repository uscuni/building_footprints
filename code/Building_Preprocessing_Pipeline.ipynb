{
 "cells": [
  {
   "cell_type": "markdown",
   "metadata": {},
   "source": [
    "## Building Preprocessing Pipeline"
   ]
  },
  {
   "cell_type": "markdown",
   "metadata": {},
   "source": [
    "0. Make valid and keep only polygons  \n",
    "1. Overlapping buildings  \n",
    "    a. Merge overlapping buildings  \n",
    "    b. Trim remaining overlapping buildings  \n",
    "2. Merge collapsed buildings\n",
    "3. Snap buildings"
   ]
  },
  {
   "cell_type": "code",
   "execution_count": 5,
   "metadata": {},
   "outputs": [],
   "source": [
    "import geopandas as gpd\n",
    "import geoplanar"
   ]
  },
  {
   "cell_type": "code",
   "execution_count": 6,
   "metadata": {},
   "outputs": [],
   "source": [
    "buildings=gpd.read_parquet('buildings_berlin.parquet',columns=['geometry'])"
   ]
  },
  {
   "cell_type": "code",
   "execution_count": 7,
   "metadata": {},
   "outputs": [
    {
     "data": {
      "text/html": [
       "<div>\n",
       "<style scoped>\n",
       "    .dataframe tbody tr th:only-of-type {\n",
       "        vertical-align: middle;\n",
       "    }\n",
       "\n",
       "    .dataframe tbody tr th {\n",
       "        vertical-align: top;\n",
       "    }\n",
       "\n",
       "    .dataframe thead th {\n",
       "        text-align: right;\n",
       "    }\n",
       "</style>\n",
       "<table border=\"1\" class=\"dataframe\">\n",
       "  <thead>\n",
       "    <tr style=\"text-align: right;\">\n",
       "      <th></th>\n",
       "      <th>geometry</th>\n",
       "    </tr>\n",
       "  </thead>\n",
       "  <tbody>\n",
       "    <tr>\n",
       "      <th>0</th>\n",
       "      <td>POLYGON ((13.30277 52.51964, 13.30332 52.51964...</td>\n",
       "    </tr>\n",
       "    <tr>\n",
       "      <th>1</th>\n",
       "      <td>POLYGON ((13.35264 52.53331, 13.35276 52.53322...</td>\n",
       "    </tr>\n",
       "    <tr>\n",
       "      <th>2</th>\n",
       "      <td>POLYGON ((13.35397 52.52302, 13.35395 52.52295...</td>\n",
       "    </tr>\n",
       "    <tr>\n",
       "      <th>3</th>\n",
       "      <td>POLYGON ((13.35522 52.52727, 13.35512 52.52739...</td>\n",
       "    </tr>\n",
       "    <tr>\n",
       "      <th>4</th>\n",
       "      <td>POLYGON ((13.36014 52.53152, 13.35987 52.53184...</td>\n",
       "    </tr>\n",
       "    <tr>\n",
       "      <th>...</th>\n",
       "      <td>...</td>\n",
       "    </tr>\n",
       "    <tr>\n",
       "      <th>1057114</th>\n",
       "      <td>POLYGON ((13.4585 52.50118, 13.45827 52.50122,...</td>\n",
       "    </tr>\n",
       "    <tr>\n",
       "      <th>1057115</th>\n",
       "      <td>POLYGON ((13.11685 52.39058, 13.1174 52.39058,...</td>\n",
       "    </tr>\n",
       "    <tr>\n",
       "      <th>1057116</th>\n",
       "      <td>POLYGON ((13.2772 52.53379, 13.27694 52.53323,...</td>\n",
       "    </tr>\n",
       "    <tr>\n",
       "      <th>1057117</th>\n",
       "      <td>POLYGON ((13.43921 52.43791, 13.43934 52.43803...</td>\n",
       "    </tr>\n",
       "    <tr>\n",
       "      <th>1057118</th>\n",
       "      <td>POLYGON ((13.44577 52.43794, 13.44696 52.43806...</td>\n",
       "    </tr>\n",
       "  </tbody>\n",
       "</table>\n",
       "<p>1057119 rows × 1 columns</p>\n",
       "</div>"
      ],
      "text/plain": [
       "                                                  geometry\n",
       "0        POLYGON ((13.30277 52.51964, 13.30332 52.51964...\n",
       "1        POLYGON ((13.35264 52.53331, 13.35276 52.53322...\n",
       "2        POLYGON ((13.35397 52.52302, 13.35395 52.52295...\n",
       "3        POLYGON ((13.35522 52.52727, 13.35512 52.52739...\n",
       "4        POLYGON ((13.36014 52.53152, 13.35987 52.53184...\n",
       "...                                                    ...\n",
       "1057114  POLYGON ((13.4585 52.50118, 13.45827 52.50122,...\n",
       "1057115  POLYGON ((13.11685 52.39058, 13.1174 52.39058,...\n",
       "1057116  POLYGON ((13.2772 52.53379, 13.27694 52.53323,...\n",
       "1057117  POLYGON ((13.43921 52.43791, 13.43934 52.43803...\n",
       "1057118  POLYGON ((13.44577 52.43794, 13.44696 52.43806...\n",
       "\n",
       "[1057119 rows x 1 columns]"
      ]
     },
     "execution_count": 7,
     "metadata": {},
     "output_type": "execute_result"
    }
   ],
   "source": [
    "buildings"
   ]
  },
  {
   "cell_type": "code",
   "execution_count": 8,
   "metadata": {},
   "outputs": [],
   "source": [
    "buildings = buildings.to_crs(31468)"
   ]
  },
  {
   "cell_type": "markdown",
   "metadata": {},
   "source": [
    "## 0. Make valid and keep only polygons"
   ]
  },
  {
   "cell_type": "code",
   "execution_count": 9,
   "metadata": {},
   "outputs": [
    {
     "data": {
      "text/plain": [
       "True     1057112\n",
       "False          7\n",
       "Name: count, dtype: int64"
      ]
     },
     "execution_count": 9,
     "metadata": {},
     "output_type": "execute_result"
    }
   ],
   "source": [
    "buildings.is_valid.value_counts()"
   ]
  },
  {
   "cell_type": "code",
   "execution_count": 10,
   "metadata": {},
   "outputs": [],
   "source": [
    "buildings_valid=buildings.make_valid()"
   ]
  },
  {
   "cell_type": "code",
   "execution_count": 11,
   "metadata": {},
   "outputs": [],
   "source": [
    "buildings=gpd.GeoDataFrame({'geometry':buildings_valid})"
   ]
  },
  {
   "cell_type": "code",
   "execution_count": 12,
   "metadata": {},
   "outputs": [
    {
     "data": {
      "text/plain": [
       "Polygon               1056951\n",
       "MultiPolygon               82\n",
       "LineString                 49\n",
       "MultiLineString            33\n",
       "GeometryCollection          4\n",
       "Name: count, dtype: int64"
      ]
     },
     "execution_count": 12,
     "metadata": {},
     "output_type": "execute_result"
    }
   ],
   "source": [
    "buildings['geometry'].geom_type.value_counts()"
   ]
  },
  {
   "cell_type": "code",
   "execution_count": 13,
   "metadata": {},
   "outputs": [
    {
     "name": "stderr",
     "output_type": "stream",
     "text": [
      "/Users/lisawinkler/opt/anaconda3/envs/py312_uscuni_buildingfootprints/lib/python3.12/site-packages/geopandas/geodataframe.py:2469: FutureWarning: The `drop` keyword argument is deprecated and in future the only supported behaviour will match drop=False. To silence this warning and adopt the future behaviour, stop providing `drop` as a keyword to `set_geometry`. To replicate the `drop=True` behaviour you should update your code to\n",
      "`geo_col_name = gdf.active_geometry_name; gdf.set_geometry(new_geo_col).drop(columns=geo_col_name).rename_geometry(geo_col_name)`.\n",
      "  return gf.set_geometry(col, drop=drop, inplace=False, crs=crs)\n"
     ]
    }
   ],
   "source": [
    "buildings=buildings.explode(ignore_index=True)"
   ]
  },
  {
   "cell_type": "code",
   "execution_count": 14,
   "metadata": {},
   "outputs": [
    {
     "data": {
      "text/plain": [
       "Polygon            1057241\n",
       "LineString             169\n",
       "MultiLineString          4\n",
       "MultiPolygon             3\n",
       "Name: count, dtype: int64"
      ]
     },
     "execution_count": 14,
     "metadata": {},
     "output_type": "execute_result"
    }
   ],
   "source": [
    "buildings['geometry'].geom_type.value_counts()"
   ]
  },
  {
   "cell_type": "code",
   "execution_count": 15,
   "metadata": {},
   "outputs": [
    {
     "name": "stderr",
     "output_type": "stream",
     "text": [
      "/Users/lisawinkler/opt/anaconda3/envs/py312_uscuni_buildingfootprints/lib/python3.12/site-packages/geopandas/geodataframe.py:2469: FutureWarning: The `drop` keyword argument is deprecated and in future the only supported behaviour will match drop=False. To silence this warning and adopt the future behaviour, stop providing `drop` as a keyword to `set_geometry`. To replicate the `drop=True` behaviour you should update your code to\n",
      "`geo_col_name = gdf.active_geometry_name; gdf.set_geometry(new_geo_col).drop(columns=geo_col_name).rename_geometry(geo_col_name)`.\n",
      "  return gf.set_geometry(col, drop=drop, inplace=False, crs=crs)\n"
     ]
    }
   ],
   "source": [
    "buildings=buildings.explode(ignore_index=True)"
   ]
  },
  {
   "cell_type": "code",
   "execution_count": 16,
   "metadata": {},
   "outputs": [],
   "source": [
    "buildings=buildings[buildings['geometry'].geom_type=='Polygon']"
   ]
  },
  {
   "cell_type": "code",
   "execution_count": 17,
   "metadata": {},
   "outputs": [
    {
     "data": {
      "text/plain": [
       "Polygon    1057251\n",
       "Name: count, dtype: int64"
      ]
     },
     "execution_count": 17,
     "metadata": {},
     "output_type": "execute_result"
    }
   ],
   "source": [
    "buildings['geometry'].geom_type.value_counts()"
   ]
  },
  {
   "cell_type": "markdown",
   "metadata": {},
   "source": [
    "## 1. Overlapping buildings"
   ]
  },
  {
   "cell_type": "markdown",
   "metadata": {},
   "source": [
    "### 1a. Merge overlapping buildings"
   ]
  },
  {
   "cell_type": "code",
   "execution_count": 18,
   "metadata": {},
   "outputs": [],
   "source": [
    "buildings=buildings.reset_index(drop=True)"
   ]
  },
  {
   "cell_type": "code",
   "execution_count": 19,
   "metadata": {},
   "outputs": [],
   "source": [
    "# set precision grid\n",
    "buildings = buildings.set_precision(0.001)\n",
    "buildings=gpd.GeoDataFrame(geometry=buildings, crs=31468)"
   ]
  },
  {
   "cell_type": "code",
   "execution_count": 20,
   "metadata": {},
   "outputs": [],
   "source": [
    "merged=geoplanar.merge_overlaps(buildings,500,0.1)"
   ]
  },
  {
   "cell_type": "code",
   "execution_count": 21,
   "metadata": {},
   "outputs": [
    {
     "data": {
      "text/html": [
       "<div>\n",
       "<style scoped>\n",
       "    .dataframe tbody tr th:only-of-type {\n",
       "        vertical-align: middle;\n",
       "    }\n",
       "\n",
       "    .dataframe tbody tr th {\n",
       "        vertical-align: top;\n",
       "    }\n",
       "\n",
       "    .dataframe thead th {\n",
       "        text-align: right;\n",
       "    }\n",
       "</style>\n",
       "<table border=\"1\" class=\"dataframe\">\n",
       "  <thead>\n",
       "    <tr style=\"text-align: right;\">\n",
       "      <th></th>\n",
       "      <th>geometry</th>\n",
       "    </tr>\n",
       "  </thead>\n",
       "  <tbody>\n",
       "    <tr>\n",
       "      <th>0</th>\n",
       "      <td>POLYGON ((4588570.786 5821522.429, 4588570.911...</td>\n",
       "    </tr>\n",
       "    <tr>\n",
       "      <th>1</th>\n",
       "      <td>POLYGON ((4591929.045 5823139.268, 4591928.629...</td>\n",
       "    </tr>\n",
       "    <tr>\n",
       "      <th>2</th>\n",
       "      <td>POLYGON ((4592000.684 5821954.624, 4591985.462...</td>\n",
       "    </tr>\n",
       "    <tr>\n",
       "      <th>3</th>\n",
       "      <td>POLYGON ((4592070.997 5822450.123, 4592070.662...</td>\n",
       "    </tr>\n",
       "    <tr>\n",
       "      <th>4</th>\n",
       "      <td>POLYGON ((4592383.652 5822950.81, 4592401.503 ...</td>\n",
       "    </tr>\n",
       "    <tr>\n",
       "      <th>...</th>\n",
       "      <td>...</td>\n",
       "    </tr>\n",
       "    <tr>\n",
       "      <th>1056529</th>\n",
       "      <td>POLYGON ((4599129.491 5819674.681, 4599113.569...</td>\n",
       "    </tr>\n",
       "    <tr>\n",
       "      <th>1056530</th>\n",
       "      <td>POLYGON ((4576173.534 5806950.331, 4576177.445...</td>\n",
       "    </tr>\n",
       "    <tr>\n",
       "      <th>1056531</th>\n",
       "      <td>POLYGON ((4586824.286 5823051.312, 4586799.392...</td>\n",
       "    </tr>\n",
       "    <tr>\n",
       "      <th>1056532</th>\n",
       "      <td>POLYGON ((4597984.496 5812617.902, 4597996.368...</td>\n",
       "    </tr>\n",
       "    <tr>\n",
       "      <th>1056533</th>\n",
       "      <td>POLYGON ((4598502.828 5812631.363, 4598504.66 ...</td>\n",
       "    </tr>\n",
       "  </tbody>\n",
       "</table>\n",
       "<p>1056534 rows × 1 columns</p>\n",
       "</div>"
      ],
      "text/plain": [
       "                                                  geometry\n",
       "0        POLYGON ((4588570.786 5821522.429, 4588570.911...\n",
       "1        POLYGON ((4591929.045 5823139.268, 4591928.629...\n",
       "2        POLYGON ((4592000.684 5821954.624, 4591985.462...\n",
       "3        POLYGON ((4592070.997 5822450.123, 4592070.662...\n",
       "4        POLYGON ((4592383.652 5822950.81, 4592401.503 ...\n",
       "...                                                    ...\n",
       "1056529  POLYGON ((4599129.491 5819674.681, 4599113.569...\n",
       "1056530  POLYGON ((4576173.534 5806950.331, 4576177.445...\n",
       "1056531  POLYGON ((4586824.286 5823051.312, 4586799.392...\n",
       "1056532  POLYGON ((4597984.496 5812617.902, 4597996.368...\n",
       "1056533  POLYGON ((4598502.828 5812631.363, 4598504.66 ...\n",
       "\n",
       "[1056534 rows x 1 columns]"
      ]
     },
     "execution_count": 21,
     "metadata": {},
     "output_type": "execute_result"
    }
   ],
   "source": [
    "merged"
   ]
  },
  {
   "cell_type": "code",
   "execution_count": 22,
   "metadata": {},
   "outputs": [
    {
     "data": {
      "text/plain": [
       "True"
      ]
     },
     "execution_count": 22,
     "metadata": {},
     "output_type": "execute_result"
    }
   ],
   "source": [
    "geoplanar.is_overlapping(merged)"
   ]
  },
  {
   "cell_type": "markdown",
   "metadata": {},
   "source": [
    "### 1b. Trim remaining overlapping buildings"
   ]
  },
  {
   "cell_type": "code",
   "execution_count": 23,
   "metadata": {},
   "outputs": [],
   "source": [
    "buildings_trimmed = geoplanar.trim_overlaps(merged,largest=False)"
   ]
  },
  {
   "cell_type": "code",
   "execution_count": 24,
   "metadata": {},
   "outputs": [
    {
     "data": {
      "text/html": [
       "<div>\n",
       "<style scoped>\n",
       "    .dataframe tbody tr th:only-of-type {\n",
       "        vertical-align: middle;\n",
       "    }\n",
       "\n",
       "    .dataframe tbody tr th {\n",
       "        vertical-align: top;\n",
       "    }\n",
       "\n",
       "    .dataframe thead th {\n",
       "        text-align: right;\n",
       "    }\n",
       "</style>\n",
       "<table border=\"1\" class=\"dataframe\">\n",
       "  <thead>\n",
       "    <tr style=\"text-align: right;\">\n",
       "      <th></th>\n",
       "      <th>geometry</th>\n",
       "    </tr>\n",
       "  </thead>\n",
       "  <tbody>\n",
       "    <tr>\n",
       "      <th>0</th>\n",
       "      <td>POLYGON ((4588570.786 5821522.429, 4588570.911...</td>\n",
       "    </tr>\n",
       "    <tr>\n",
       "      <th>1</th>\n",
       "      <td>POLYGON ((4591929.016 5823140.091, 4591933.465...</td>\n",
       "    </tr>\n",
       "    <tr>\n",
       "      <th>2</th>\n",
       "      <td>POLYGON ((4591986.823 5821964.593, 4592002.064...</td>\n",
       "    </tr>\n",
       "    <tr>\n",
       "      <th>3</th>\n",
       "      <td>POLYGON ((4592070.997 5822450.123, 4592070.662...</td>\n",
       "    </tr>\n",
       "    <tr>\n",
       "      <th>4</th>\n",
       "      <td>POLYGON ((4592383.652 5822950.81, 4592401.503 ...</td>\n",
       "    </tr>\n",
       "    <tr>\n",
       "      <th>...</th>\n",
       "      <td>...</td>\n",
       "    </tr>\n",
       "    <tr>\n",
       "      <th>1056529</th>\n",
       "      <td>POLYGON ((4599129.491 5819674.681, 4599113.569...</td>\n",
       "    </tr>\n",
       "    <tr>\n",
       "      <th>1056530</th>\n",
       "      <td>POLYGON ((4576173.534 5806950.331, 4576177.445...</td>\n",
       "    </tr>\n",
       "    <tr>\n",
       "      <th>1056531</th>\n",
       "      <td>POLYGON ((4586824.286 5823051.312, 4586799.392...</td>\n",
       "    </tr>\n",
       "    <tr>\n",
       "      <th>1056532</th>\n",
       "      <td>POLYGON ((4597984.496 5812617.902, 4597996.368...</td>\n",
       "    </tr>\n",
       "    <tr>\n",
       "      <th>1056533</th>\n",
       "      <td>POLYGON ((4598502.828 5812631.363, 4598504.66 ...</td>\n",
       "    </tr>\n",
       "  </tbody>\n",
       "</table>\n",
       "<p>1056534 rows × 1 columns</p>\n",
       "</div>"
      ],
      "text/plain": [
       "                                                  geometry\n",
       "0        POLYGON ((4588570.786 5821522.429, 4588570.911...\n",
       "1        POLYGON ((4591929.016 5823140.091, 4591933.465...\n",
       "2        POLYGON ((4591986.823 5821964.593, 4592002.064...\n",
       "3        POLYGON ((4592070.997 5822450.123, 4592070.662...\n",
       "4        POLYGON ((4592383.652 5822950.81, 4592401.503 ...\n",
       "...                                                    ...\n",
       "1056529  POLYGON ((4599129.491 5819674.681, 4599113.569...\n",
       "1056530  POLYGON ((4576173.534 5806950.331, 4576177.445...\n",
       "1056531  POLYGON ((4586824.286 5823051.312, 4586799.392...\n",
       "1056532  POLYGON ((4597984.496 5812617.902, 4597996.368...\n",
       "1056533  POLYGON ((4598502.828 5812631.363, 4598504.66 ...\n",
       "\n",
       "[1056534 rows x 1 columns]"
      ]
     },
     "execution_count": 24,
     "metadata": {},
     "output_type": "execute_result"
    }
   ],
   "source": [
    "buildings_trimmed"
   ]
  },
  {
   "cell_type": "code",
   "execution_count": 25,
   "metadata": {},
   "outputs": [
    {
     "data": {
      "text/plain": [
       "Polygon               1056530\n",
       "GeometryCollection          4\n",
       "Name: count, dtype: int64"
      ]
     },
     "execution_count": 25,
     "metadata": {},
     "output_type": "execute_result"
    }
   ],
   "source": [
    "buildings_trimmed['geometry'].geom_type.value_counts()"
   ]
  },
  {
   "cell_type": "code",
   "execution_count": 26,
   "metadata": {},
   "outputs": [
    {
     "data": {
      "text/html": [
       "<div>\n",
       "<style scoped>\n",
       "    .dataframe tbody tr th:only-of-type {\n",
       "        vertical-align: middle;\n",
       "    }\n",
       "\n",
       "    .dataframe tbody tr th {\n",
       "        vertical-align: top;\n",
       "    }\n",
       "\n",
       "    .dataframe thead th {\n",
       "        text-align: right;\n",
       "    }\n",
       "</style>\n",
       "<table border=\"1\" class=\"dataframe\">\n",
       "  <thead>\n",
       "    <tr style=\"text-align: right;\">\n",
       "      <th></th>\n",
       "      <th>geometry</th>\n",
       "    </tr>\n",
       "  </thead>\n",
       "  <tbody>\n",
       "    <tr>\n",
       "      <th>0</th>\n",
       "      <td>POLYGON ((4588570.786 5821522.429, 4588570.911...</td>\n",
       "    </tr>\n",
       "    <tr>\n",
       "      <th>1</th>\n",
       "      <td>POLYGON ((4591929.016 5823140.091, 4591933.465...</td>\n",
       "    </tr>\n",
       "    <tr>\n",
       "      <th>2</th>\n",
       "      <td>POLYGON ((4591986.823 5821964.593, 4592002.064...</td>\n",
       "    </tr>\n",
       "    <tr>\n",
       "      <th>3</th>\n",
       "      <td>POLYGON ((4592070.997 5822450.123, 4592070.662...</td>\n",
       "    </tr>\n",
       "    <tr>\n",
       "      <th>4</th>\n",
       "      <td>POLYGON ((4592383.652 5822950.81, 4592401.503 ...</td>\n",
       "    </tr>\n",
       "    <tr>\n",
       "      <th>...</th>\n",
       "      <td>...</td>\n",
       "    </tr>\n",
       "    <tr>\n",
       "      <th>1056529</th>\n",
       "      <td>POLYGON ((4599129.491 5819674.681, 4599113.569...</td>\n",
       "    </tr>\n",
       "    <tr>\n",
       "      <th>1056530</th>\n",
       "      <td>POLYGON ((4576173.534 5806950.331, 4576177.445...</td>\n",
       "    </tr>\n",
       "    <tr>\n",
       "      <th>1056531</th>\n",
       "      <td>POLYGON ((4586824.286 5823051.312, 4586799.392...</td>\n",
       "    </tr>\n",
       "    <tr>\n",
       "      <th>1056532</th>\n",
       "      <td>POLYGON ((4597984.496 5812617.902, 4597996.368...</td>\n",
       "    </tr>\n",
       "    <tr>\n",
       "      <th>1056533</th>\n",
       "      <td>POLYGON ((4598502.828 5812631.363, 4598504.66 ...</td>\n",
       "    </tr>\n",
       "  </tbody>\n",
       "</table>\n",
       "<p>1056534 rows × 1 columns</p>\n",
       "</div>"
      ],
      "text/plain": [
       "                                                  geometry\n",
       "0        POLYGON ((4588570.786 5821522.429, 4588570.911...\n",
       "1        POLYGON ((4591929.016 5823140.091, 4591933.465...\n",
       "2        POLYGON ((4591986.823 5821964.593, 4592002.064...\n",
       "3        POLYGON ((4592070.997 5822450.123, 4592070.662...\n",
       "4        POLYGON ((4592383.652 5822950.81, 4592401.503 ...\n",
       "...                                                    ...\n",
       "1056529  POLYGON ((4599129.491 5819674.681, 4599113.569...\n",
       "1056530  POLYGON ((4576173.534 5806950.331, 4576177.445...\n",
       "1056531  POLYGON ((4586824.286 5823051.312, 4586799.392...\n",
       "1056532  POLYGON ((4597984.496 5812617.902, 4597996.368...\n",
       "1056533  POLYGON ((4598502.828 5812631.363, 4598504.66 ...\n",
       "\n",
       "[1056534 rows x 1 columns]"
      ]
     },
     "execution_count": 26,
     "metadata": {},
     "output_type": "execute_result"
    }
   ],
   "source": [
    "buildings_trimmed"
   ]
  },
  {
   "cell_type": "markdown",
   "metadata": {},
   "source": [
    "Some trimmed buildings are slightly overlapping due to floating point errors."
   ]
  },
  {
   "cell_type": "code",
   "execution_count": 27,
   "metadata": {},
   "outputs": [
    {
     "data": {
      "text/plain": [
       "True"
      ]
     },
     "execution_count": 27,
     "metadata": {},
     "output_type": "execute_result"
    }
   ],
   "source": [
    "geoplanar.is_overlapping(buildings_trimmed)"
   ]
  },
  {
   "cell_type": "markdown",
   "metadata": {},
   "source": [
    "Trim buildings results in some MultiPolygons due to the uncerlying topology of the polygons. This is expected and the MultiPolygons need to be exploded into Polygons."
   ]
  },
  {
   "cell_type": "code",
   "execution_count": 31,
   "metadata": {},
   "outputs": [
    {
     "name": "stderr",
     "output_type": "stream",
     "text": [
      "/Users/lisawinkler/opt/anaconda3/envs/py312_uscuni_buildingfootprints/lib/python3.12/site-packages/geopandas/geodataframe.py:2469: FutureWarning: The `drop` keyword argument is deprecated and in future the only supported behaviour will match drop=False. To silence this warning and adopt the future behaviour, stop providing `drop` as a keyword to `set_geometry`. To replicate the `drop=True` behaviour you should update your code to\n",
      "`geo_col_name = gdf.active_geometry_name; gdf.set_geometry(new_geo_col).drop(columns=geo_col_name).rename_geometry(geo_col_name)`.\n",
      "  return gf.set_geometry(col, drop=drop, inplace=False, crs=crs)\n"
     ]
    }
   ],
   "source": [
    "buildings_trimmed=buildings_trimmed.explode(ignore_index=True)"
   ]
  },
  {
   "cell_type": "code",
   "execution_count": 32,
   "metadata": {},
   "outputs": [
    {
     "data": {
      "text/html": [
       "<div>\n",
       "<style scoped>\n",
       "    .dataframe tbody tr th:only-of-type {\n",
       "        vertical-align: middle;\n",
       "    }\n",
       "\n",
       "    .dataframe tbody tr th {\n",
       "        vertical-align: top;\n",
       "    }\n",
       "\n",
       "    .dataframe thead th {\n",
       "        text-align: right;\n",
       "    }\n",
       "</style>\n",
       "<table border=\"1\" class=\"dataframe\">\n",
       "  <thead>\n",
       "    <tr style=\"text-align: right;\">\n",
       "      <th></th>\n",
       "      <th>geometry</th>\n",
       "    </tr>\n",
       "  </thead>\n",
       "  <tbody>\n",
       "  </tbody>\n",
       "</table>\n",
       "</div>"
      ],
      "text/plain": [
       "Empty GeoDataFrame\n",
       "Columns: [geometry]\n",
       "Index: []"
      ]
     },
     "execution_count": 32,
     "metadata": {},
     "output_type": "execute_result"
    }
   ],
   "source": [
    "buildings_trimmed[buildings_trimmed['geometry'].geom_type == 'MultiPolygon']"
   ]
  },
  {
   "cell_type": "markdown",
   "metadata": {},
   "source": [
    "## 2. Merge Collapsed Buildings"
   ]
  },
  {
   "cell_type": "code",
   "execution_count": 33,
   "metadata": {},
   "outputs": [],
   "source": [
    "buildings=buildings_trimmed"
   ]
  },
  {
   "cell_type": "code",
   "execution_count": 34,
   "metadata": {},
   "outputs": [],
   "source": [
    "buildings=buildings.reset_index(drop=True)"
   ]
  },
  {
   "cell_type": "markdown",
   "metadata": {},
   "source": [
    "Set Precision Grid"
   ]
  },
  {
   "cell_type": "code",
   "execution_count": 35,
   "metadata": {},
   "outputs": [],
   "source": [
    "buildings = buildings.set_precision(0.001)\n",
    "buildings=gpd.GeoDataFrame(geometry=buildings, crs=31468)"
   ]
  },
  {
   "cell_type": "markdown",
   "metadata": {},
   "source": [
    "Find indices of collapsed buildings"
   ]
  },
  {
   "cell_type": "code",
   "execution_count": 36,
   "metadata": {},
   "outputs": [],
   "source": [
    "shrink=buildings.buffer(-0.4)\n",
    "emptycheck = shrink.is_empty\n",
    "collapse = buildings[emptycheck]"
   ]
  },
  {
   "cell_type": "code",
   "execution_count": 37,
   "metadata": {},
   "outputs": [
    {
     "data": {
      "text/html": [
       "<div>\n",
       "<style scoped>\n",
       "    .dataframe tbody tr th:only-of-type {\n",
       "        vertical-align: middle;\n",
       "    }\n",
       "\n",
       "    .dataframe tbody tr th {\n",
       "        vertical-align: top;\n",
       "    }\n",
       "\n",
       "    .dataframe thead th {\n",
       "        text-align: right;\n",
       "    }\n",
       "</style>\n",
       "<table border=\"1\" class=\"dataframe\">\n",
       "  <thead>\n",
       "    <tr style=\"text-align: right;\">\n",
       "      <th></th>\n",
       "      <th>geometry</th>\n",
       "    </tr>\n",
       "  </thead>\n",
       "  <tbody>\n",
       "    <tr>\n",
       "      <th>45607</th>\n",
       "      <td>POLYGON ((4593663.599 5820915.698, 4593666.151...</td>\n",
       "    </tr>\n",
       "    <tr>\n",
       "      <th>46256</th>\n",
       "      <td>POLYGON ((4593697.057 5820923.562, 4593697.037...</td>\n",
       "    </tr>\n",
       "    <tr>\n",
       "      <th>47852</th>\n",
       "      <td>POLYGON ((4593635.027 5820965.599, 4593632.753...</td>\n",
       "    </tr>\n",
       "    <tr>\n",
       "      <th>47853</th>\n",
       "      <td>POLYGON ((4593636.126 5820966.41, 4593638.325 ...</td>\n",
       "    </tr>\n",
       "    <tr>\n",
       "      <th>47854</th>\n",
       "      <td>POLYGON ((4593641.7 5820965.748, 4593639.385 5...</td>\n",
       "    </tr>\n",
       "    <tr>\n",
       "      <th>...</th>\n",
       "      <td>...</td>\n",
       "    </tr>\n",
       "    <tr>\n",
       "      <th>1056137</th>\n",
       "      <td>POLYGON ((4574435.095 5803938.142, 4574425.98 ...</td>\n",
       "    </tr>\n",
       "    <tr>\n",
       "      <th>1056149</th>\n",
       "      <td>POLYGON ((4570493.729 5809459.369, 4570508.914...</td>\n",
       "    </tr>\n",
       "    <tr>\n",
       "      <th>1056254</th>\n",
       "      <td>POLYGON ((4590242.858 5822757.197, 4590243.115...</td>\n",
       "    </tr>\n",
       "    <tr>\n",
       "      <th>1056276</th>\n",
       "      <td>POLYGON ((4574349.027 5807042.493, 4574355.244...</td>\n",
       "    </tr>\n",
       "    <tr>\n",
       "      <th>1056502</th>\n",
       "      <td>POLYGON ((4590535.699 5814740.967, 4590530.757...</td>\n",
       "    </tr>\n",
       "  </tbody>\n",
       "</table>\n",
       "<p>198 rows × 1 columns</p>\n",
       "</div>"
      ],
      "text/plain": [
       "                                                  geometry\n",
       "45607    POLYGON ((4593663.599 5820915.698, 4593666.151...\n",
       "46256    POLYGON ((4593697.057 5820923.562, 4593697.037...\n",
       "47852    POLYGON ((4593635.027 5820965.599, 4593632.753...\n",
       "47853    POLYGON ((4593636.126 5820966.41, 4593638.325 ...\n",
       "47854    POLYGON ((4593641.7 5820965.748, 4593639.385 5...\n",
       "...                                                    ...\n",
       "1056137  POLYGON ((4574435.095 5803938.142, 4574425.98 ...\n",
       "1056149  POLYGON ((4570493.729 5809459.369, 4570508.914...\n",
       "1056254  POLYGON ((4590242.858 5822757.197, 4590243.115...\n",
       "1056276  POLYGON ((4574349.027 5807042.493, 4574355.244...\n",
       "1056502  POLYGON ((4590535.699 5814740.967, 4590530.757...\n",
       "\n",
       "[198 rows x 1 columns]"
      ]
     },
     "execution_count": 37,
     "metadata": {},
     "output_type": "execute_result"
    }
   ],
   "source": [
    "collapse"
   ]
  },
  {
   "cell_type": "code",
   "execution_count": 38,
   "metadata": {},
   "outputs": [],
   "source": [
    "index = list(collapse.index)"
   ]
  },
  {
   "cell_type": "markdown",
   "metadata": {},
   "source": [
    "Use geoplanar merge_touching() with indices of collapsed buildings"
   ]
  },
  {
   "cell_type": "code",
   "execution_count": 39,
   "metadata": {},
   "outputs": [],
   "source": [
    "buildings_collapsed = geoplanar.merge_touching(buildings,index,largest=True)"
   ]
  },
  {
   "cell_type": "code",
   "execution_count": 40,
   "metadata": {},
   "outputs": [
    {
     "data": {
      "text/plain": [
       "Polygon    1056332\n",
       "Name: count, dtype: int64"
      ]
     },
     "execution_count": 40,
     "metadata": {},
     "output_type": "execute_result"
    }
   ],
   "source": [
    "buildings_collapsed['geometry'].geom_type.value_counts()"
   ]
  },
  {
   "cell_type": "markdown",
   "metadata": {},
   "source": [
    "## 3. Snap buildings"
   ]
  },
  {
   "cell_type": "code",
   "execution_count": 41,
   "metadata": {},
   "outputs": [
    {
     "name": "stderr",
     "output_type": "stream",
     "text": [
      "/Users/lisawinkler/opt/anaconda3/envs/py312_uscuni_buildingfootprints/lib/python3.12/site-packages/shapely/constructive.py:862: RuntimeWarning: overflow encountered in simplify_preserve_topology\n",
      "  return lib.simplify_preserve_topology(geometry, tolerance, **kwargs)\n",
      "/Users/lisawinkler/opt/anaconda3/envs/py312_uscuni_buildingfootprints/lib/python3.12/site-packages/shapely/constructive.py:862: RuntimeWarning: invalid value encountered in simplify_preserve_topology\n",
      "  return lib.simplify_preserve_topology(geometry, tolerance, **kwargs)\n"
     ]
    }
   ],
   "source": [
    "final = geoplanar.snap(buildings_collapsed, threshold=0.5)"
   ]
  },
  {
   "cell_type": "code",
   "execution_count": 42,
   "metadata": {},
   "outputs": [],
   "source": [
    "gdf=gpd.GeoDataFrame(geometry=final)"
   ]
  },
  {
   "cell_type": "markdown",
   "metadata": {},
   "source": [
    "Snap buildings creates invalid geometries. These need to be made valid again."
   ]
  },
  {
   "cell_type": "code",
   "execution_count": 43,
   "metadata": {},
   "outputs": [
    {
     "data": {
      "text/plain": [
       "True     1056031\n",
       "False        301\n",
       "Name: count, dtype: int64"
      ]
     },
     "execution_count": 43,
     "metadata": {},
     "output_type": "execute_result"
    }
   ],
   "source": [
    "gdf.is_valid.value_counts()"
   ]
  },
  {
   "cell_type": "code",
   "execution_count": 44,
   "metadata": {},
   "outputs": [],
   "source": [
    "buildings_valid=gdf.make_valid()\n",
    "buildings=gpd.GeoDataFrame({'geometry':buildings_valid})"
   ]
  },
  {
   "cell_type": "code",
   "execution_count": null,
   "metadata": {},
   "outputs": [],
   "source": [
    "buildings.cx[4595000:4600000, 5818788:5823292].explore()"
   ]
  },
  {
   "cell_type": "code",
   "execution_count": null,
   "metadata": {},
   "outputs": [],
   "source": []
  }
 ],
 "metadata": {
  "kernelspec": {
   "display_name": "py312_uscuni_buildingfootprints",
   "language": "python",
   "name": "python3"
  },
  "language_info": {
   "codemirror_mode": {
    "name": "ipython",
    "version": 3
   },
   "file_extension": ".py",
   "mimetype": "text/x-python",
   "name": "python",
   "nbconvert_exporter": "python",
   "pygments_lexer": "ipython3",
   "version": "3.12.2"
  }
 },
 "nbformat": 4,
 "nbformat_minor": 2
}
